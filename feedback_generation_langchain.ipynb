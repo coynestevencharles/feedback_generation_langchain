{
 "cells": [
  {
   "cell_type": "code",
   "execution_count": 1,
   "metadata": {},
   "outputs": [],
   "source": [
    "%load_ext dotenv\n",
    "%dotenv"
   ]
  },
  {
   "cell_type": "code",
   "execution_count": 2,
   "metadata": {},
   "outputs": [],
   "source": [
    "from langchain import PromptTemplate, LLMChain\n",
    "from langchain.chat_models import ChatOpenAI\n",
    "\n",
    "llm = ChatOpenAI(model_name='gpt-4', temperature=0.1)"
   ]
  },
  {
   "attachments": {},
   "cell_type": "markdown",
   "metadata": {},
   "source": [
    "### Define Separate Grammatical Error Correction and Feedback Generation Chains:"
   ]
  },
  {
   "cell_type": "code",
   "execution_count": 3,
   "metadata": {},
   "outputs": [],
   "source": [
    "gec_template = '''Reply with a corrected version of the input sentence with all grammatical and spelling errors fixed. If there are no errors, reply with a copy of the original sentence.\n",
    "\n",
    "Input sentence: I think smoke should to be ban in all restarants.\n",
    "Corrected sentence: I think smoking should be banned at all restaurants.\n",
    "\n",
    "Input sentence: We discussed about the issu.\n",
    "Corrected sentence: We discussed the issue.\n",
    "\n",
    "Input sentence: {sentence}\n",
    "Corrected sentence: '''\n",
    "gec_prompt = PromptTemplate(template=gec_template, input_variables=['sentence'])\n",
    "gec_chain = LLMChain(prompt=gec_prompt, llm=llm, output_key='correction')"
   ]
  },
  {
   "cell_type": "code",
   "execution_count": 4,
   "metadata": {},
   "outputs": [],
   "source": [
    "feedback_template = '''Given a sentence and its correction, give a short feedback comment about the grammatical and spelling errors that were fixed. Your response should be easy to understand. If there are no changes, reply with \"Looks good!\"\n",
    "\n",
    "Input sentence: I think smoke should to be ban in all restarants.\n",
    "Corrected sentence: I think smoking should be banned at all restaurants.\n",
    "Feedback: If you use the passive voice, you need to use the past participle of the verb.\n",
    "\n",
    "Input sentence: We discussed about the issu.\n",
    "Corrected sentence: We discussed the issue.\n",
    "Feedback: We don't use the preposition \"about\" with the verb \"discuss.\"\n",
    "\n",
    "Input sentence: {sentence}\n",
    "Corrected sentence: {correction}\n",
    "Feedback: '''\n",
    "feedback_prompt = PromptTemplate(template=feedback_template, input_variables=['sentence', 'correction'])\n",
    "feedback_chain = LLMChain(prompt=feedback_prompt, llm=llm, output_key='feedback')"
   ]
  },
  {
   "attachments": {},
   "cell_type": "markdown",
   "metadata": {},
   "source": [
    "### Test individual chains:"
   ]
  },
  {
   "cell_type": "code",
   "execution_count": 5,
   "metadata": {},
   "outputs": [
    {
     "name": "stdout",
     "output_type": "stream",
     "text": [
      "It's important for university students to have a part-time job.\n"
     ]
    }
   ],
   "source": [
    "sentence = 'its important of university students to part time job'\n",
    "\n",
    "gec_response = gec_chain.predict(sentence=sentence)\n",
    "print(gec_response)"
   ]
  },
  {
   "cell_type": "code",
   "execution_count": 6,
   "metadata": {},
   "outputs": [
    {
     "name": "stdout",
     "output_type": "stream",
     "text": [
      "Use proper contractions, prepositions, and include necessary articles. Also, use hyphens for compound adjectives.\n"
     ]
    }
   ],
   "source": [
    "feedback_response = feedback_chain.predict(sentence=sentence, correction=gec_response, output_key='feedback')\n",
    "\n",
    "print(feedback_response)"
   ]
  },
  {
   "attachments": {},
   "cell_type": "markdown",
   "metadata": {},
   "source": [
    "### Define a chain to combine both:"
   ]
  },
  {
   "cell_type": "code",
   "execution_count": 7,
   "metadata": {},
   "outputs": [],
   "source": [
    "from langchain.chains import SequentialChain\n",
    "\n",
    "overall_chain = SequentialChain(\n",
    "    chains=[gec_chain, feedback_chain],\n",
    "    input_variables=['sentence'],\n",
    "    output_variables=['feedback'])"
   ]
  },
  {
   "cell_type": "code",
   "execution_count": 8,
   "metadata": {},
   "outputs": [
    {
     "name": "stdout",
     "output_type": "stream",
     "text": [
      "Sentence:\n",
      "its important of university students to part time job\n",
      "Feedback:\n",
      "Use the correct form of \"it's\" and include the preposition \"for\" and the article \"a\" in the sentence.\n"
     ]
    }
   ],
   "source": [
    "feedback_response = overall_chain({'sentence':'its important of university students to part time job'})\n",
    "\n",
    "for key, value in feedback_response.items():\n",
    "    print(f'{key.title()}:\\n{value}')"
   ]
  },
  {
   "attachments": {},
   "cell_type": "markdown",
   "metadata": {},
   "source": [
    "## Demo with Gradio"
   ]
  },
  {
   "cell_type": "code",
   "execution_count": 9,
   "metadata": {},
   "outputs": [],
   "source": [
    "import gradio as gr\n",
    "import tqdm as tqdm"
   ]
  },
  {
   "cell_type": "code",
   "execution_count": 10,
   "metadata": {},
   "outputs": [],
   "source": [
    "def generate_feedback(sentence):\n",
    "    response = overall_chain({'sentence':sentence})\n",
    "    return response['feedback']"
   ]
  },
  {
   "cell_type": "code",
   "execution_count": 11,
   "metadata": {},
   "outputs": [
    {
     "name": "stdout",
     "output_type": "stream",
     "text": [
      "Running on local URL:  http://127.0.0.1:7860\n",
      "\n",
      "To create a public link, set `share=True` in `launch()`.\n"
     ]
    },
    {
     "data": {
      "text/html": [
       "<div><iframe src=\"http://127.0.0.1:7860/\" width=\"100%\" height=\"500\" allow=\"autoplay; camera; microphone; clipboard-read; clipboard-write;\" frameborder=\"0\" allowfullscreen></iframe></div>"
      ],
      "text/plain": [
       "<IPython.core.display.HTML object>"
      ]
     },
     "metadata": {},
     "output_type": "display_data"
    },
    {
     "data": {
      "text/plain": []
     },
     "execution_count": 11,
     "metadata": {},
     "output_type": "execute_result"
    }
   ],
   "source": [
    "app_inputs = gr.components.Textbox(lines=2, placeholder='Input sentence')\n",
    "\n",
    "interface = gr.Interface(fn=generate_feedback, \n",
    "                        inputs=app_inputs,\n",
    "                         outputs='text', \n",
    "                        title='Feedback Generator')\n",
    "\n",
    "interface.launch()"
   ]
  }
 ],
 "metadata": {
  "kernelspec": {
   "display_name": "env",
   "language": "python",
   "name": "python3"
  },
  "language_info": {
   "codemirror_mode": {
    "name": "ipython",
    "version": 3
   },
   "file_extension": ".py",
   "mimetype": "text/x-python",
   "name": "python",
   "nbconvert_exporter": "python",
   "pygments_lexer": "ipython3",
   "version": "3.8.15"
  },
  "orig_nbformat": 4
 },
 "nbformat": 4,
 "nbformat_minor": 2
}
